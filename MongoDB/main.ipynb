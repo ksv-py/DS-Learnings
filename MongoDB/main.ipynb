{
 "cells": [
  {
   "cell_type": "code",
   "execution_count": 1,
   "metadata": {},
   "outputs": [],
   "source": [
    "import pymongo as mdb"
   ]
  },
  {
   "cell_type": "code",
   "execution_count": 2,
   "metadata": {},
   "outputs": [
    {
     "data": {
      "text/plain": [
       "MongoClient(host=['localhost:27017'], document_class=dict, tz_aware=False, connect=True)"
      ]
     },
     "execution_count": 2,
     "metadata": {},
     "output_type": "execute_result"
    }
   ],
   "source": [
    "client = mdb.MongoClient(\"mongodb://localhost:xyz\") # Specify your mongoDB Address\n",
    "client"
   ]
  },
  {
   "cell_type": "code",
   "execution_count": 3,
   "metadata": {},
   "outputs": [],
   "source": [
    "# Creating a DB\n",
    "\n",
    "database = client[\"test_1\"]"
   ]
  },
  {
   "cell_type": "code",
   "execution_count": 4,
   "metadata": {},
   "outputs": [],
   "source": [
    "# Creating Collection\n",
    "collection = database['Collection_1']"
   ]
  },
  {
   "cell_type": "code",
   "execution_count": 5,
   "metadata": {},
   "outputs": [
    {
     "data": {
      "text/plain": [
       "['admin', 'config', 'local', 'test_1']"
      ]
     },
     "execution_count": 5,
     "metadata": {},
     "output_type": "execute_result"
    }
   ],
   "source": [
    "# Getting List of DB's\n",
    "client.list_database_names()"
   ]
  },
  {
   "cell_type": "code",
   "execution_count": 30,
   "metadata": {},
   "outputs": [],
   "source": [
    "# Data to be Entered\n",
    "data = {'Company Name':'XYZ Enterprise',\n",
    "        'product': 'Everthing',\n",
    "        'name': ['abc','def',54],\n",
    "        'reccord': {'name':'abc','mail_id':'abc@gmail.com','ph_number':'9955995566'}}"
   ]
  },
  {
   "cell_type": "code",
   "execution_count": 31,
   "metadata": {},
   "outputs": [
    {
     "data": {
      "text/plain": [
       "<pymongo.results.InsertOneResult at 0x15729331c30>"
      ]
     },
     "execution_count": 31,
     "metadata": {},
     "output_type": "execute_result"
    }
   ],
   "source": [
    "# Inserting data to database\n",
    "collection.insert_one(data)"
   ]
  },
  {
   "cell_type": "code",
   "execution_count": 37,
   "metadata": {},
   "outputs": [
    {
     "name": "stdout",
     "output_type": "stream",
     "text": [
      "{'_id': ObjectId('652974aea1f0cfaa1e27b5dc'), 'Company Name': 'XYZ Enterprise', 'product': 'Everthing', 'name': ['keshav', 'jangid', 54], 'reccord': {'name': 'keshav', 'mail_id': 'keshavjangid@gmail.com', 'ph_number': '9955995566'}}\n",
      "{'_id': ObjectId('652a8de20299ceb39e79f43d'), 'Company Name': 'AK Limited', 'product': 'Everthing', 'name': ['keshav', 'jangid', 54], 'reccord': {'name': 'keshav', 'mail_id': 'keshavjangid@gmail.com', 'ph_number': '9955995566'}}\n",
      "{'_id': ObjectId('652a91400299ceb39e79f43e'), 'Company Name': 'XYZ Enterprise', 'product': 'Everthing', 'name': ['keshav', 'jangid', 54], 'reccord': {'name': 'keshav', 'mail_id': 'keshavjangid@gmail.com', 'ph_number': '9955995566'}}\n",
      "{'_id': ObjectId('652a91430299ceb39e79f43f'), 'Company Name': 'AK Limited', 'product': 'Everthing', 'name': ['keshav', 'jangid', 54], 'reccord': {'name': 'keshav', 'mail_id': 'keshavjangid@gmail.com', 'ph_number': '9955995566'}}\n"
     ]
    }
   ],
   "source": [
    "# Data stored\n",
    "for i in collection.find():\n",
    "    print(i)"
   ]
  },
  {
   "cell_type": "code",
   "execution_count": 11,
   "metadata": {},
   "outputs": [
    {
     "data": {
      "text/plain": [
       "<pymongo.results.DeleteResult at 0x15729332950>"
      ]
     },
     "execution_count": 11,
     "metadata": {},
     "output_type": "execute_result"
    }
   ],
   "source": [
    "# Deleting the Records\n",
    "collection.delete_many({'product':'Everything'})"
   ]
  },
  {
   "cell_type": "code",
   "execution_count": 35,
   "metadata": {},
   "outputs": [
    {
     "data": {
      "text/plain": [
       "<pymongo.results.UpdateResult at 0x15729331600>"
      ]
     },
     "execution_count": 35,
     "metadata": {},
     "output_type": "execute_result"
    }
   ],
   "source": [
    "# update the desired data\n",
    "new_data = {'$set' : {'Company Name':'AK Limited'}}\n",
    "collection.update_many(data, new_data)\n"
   ]
  },
  {
   "cell_type": "code",
   "execution_count": null,
   "metadata": {},
   "outputs": [],
   "source": []
  },
  {
   "cell_type": "code",
   "execution_count": null,
   "metadata": {},
   "outputs": [],
   "source": []
  }
 ],
 "metadata": {
  "kernelspec": {
   "display_name": "Python 3",
   "language": "python",
   "name": "python3"
  },
  "language_info": {
   "codemirror_mode": {
    "name": "ipython",
    "version": 3
   },
   "file_extension": ".py",
   "mimetype": "text/x-python",
   "name": "python",
   "nbconvert_exporter": "python",
   "pygments_lexer": "ipython3",
   "version": "3.11.5"
  }
 },
 "nbformat": 4,
 "nbformat_minor": 2
}
