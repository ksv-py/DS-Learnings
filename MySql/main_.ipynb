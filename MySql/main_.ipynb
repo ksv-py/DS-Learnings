{
 "cells": [
  {
   "cell_type": "code",
   "execution_count": 1,
   "metadata": {},
   "outputs": [],
   "source": [
    "import mysql.connector as connection\n",
    "import pandas as pd"
   ]
  },
  {
   "cell_type": "code",
   "execution_count": 12,
   "metadata": {},
   "outputs": [
    {
     "name": "stdout",
     "output_type": "stream",
     "text": [
      "('keshav_data',)\n"
     ]
    }
   ],
   "source": [
    "try:\n",
    "    \n",
    "    mydb = connection.connect(host = 'Localhost', database = input(str('Enter Database name: ')) , user = 'root', passwd= 'password', use_pure = True)\n",
    "\n",
    "    query =  input(str('Input Query: '))\n",
    "    cursor = mydb.cursor()\n",
    "    cursor.execute(query)\n",
    "\n",
    "    # fetch the data stored in the database\n",
    "    databases = cursor.fetchall()\n",
    "    for database in databases:\n",
    "        print(database)\n",
    "\n",
    "    mydb.commit()\n",
    "except Exception as e:\n",
    "    # mydb.close()\n",
    "    print(str(e))\n",
    "    "
   ]
  },
  {
   "cell_type": "code",
   "execution_count": 3,
   "metadata": {},
   "outputs": [
    {
     "data": {
      "text/plain": [
       "True"
      ]
     },
     "execution_count": 3,
     "metadata": {},
     "output_type": "execute_result"
    }
   ],
   "source": [
    "mydb.is_connected()"
   ]
  },
  {
   "cell_type": "code",
   "execution_count": 5,
   "metadata": {},
   "outputs": [
    {
     "name": "stdout",
     "output_type": "stream",
     "text": [
      "No result set to fetch from\n"
     ]
    }
   ],
   "source": [
    "import mysql.connector as connection\n",
    "import pandas as pd\n",
    "\n",
    "try:\n",
    "    # Establish a connection to the database\n",
    "    mydb = connection.connect(host='localhost', database=input('Enter Database name: '), user='root', passwd='password', use_pure=True)\n",
    "\n",
    "    # Input your SQL query\n",
    "    query = input('Input Query: ')\n",
    "\n",
    "    # Create a cursor\n",
    "    cursor = mydb.cursor()\n",
    "\n",
    "    # Execute the query\n",
    "    cursor.execute(query)\n",
    "\n",
    "    # Fetch the results\n",
    "    result = cursor.fetchall()\n",
    "\n",
    "    # Print the results\n",
    "    for row in result:\n",
    "        print(row)\n",
    "\n",
    "    # Commit the changes (not necessary for SELECT queries)\n",
    "    mydb.commit()\n",
    "\n",
    "except Exception as e:\n",
    "    print(str(e))\n",
    "finally:\n",
    "    mydb.close()  # Close the database connection when done\n"
   ]
  },
  {
   "cell_type": "code",
   "execution_count": 13,
   "metadata": {},
   "outputs": [
    {
     "name": "stdout",
     "output_type": "stream",
     "text": [
      "Unread result found\n"
     ]
    },
    {
     "name": "stderr",
     "output_type": "stream",
     "text": [
      "C:\\Users\\kesha\\AppData\\Local\\Temp\\ipykernel_20032\\798236240.py:18: UserWarning: pandas only supports SQLAlchemy connectable (engine/connection) or database string URI or sqlite3 DBAPI2 connection. Other DBAPI2 objects are not tested. Please consider using SQLAlchemy.\n",
      "  df = pd.read_sql(query, mydb)\n"
     ]
    }
   ],
   "source": [
    "import mysql.connector as connection\n",
    "import pandas as pd\n",
    "\n",
    "try:\n",
    "    # Establish a connection to the database\n",
    "    mydb = connection.connect(host='localhost', database=input('Enter Database name: '), user='root', passwd='passwd', use_pure=True)\n",
    "\n",
    "    # Input your SQL query\n",
    "    query = input('Input Query: ')\n",
    "\n",
    "    # Create a cursor\n",
    "    cursor = mydb.cursor()\n",
    "\n",
    "    # Execute the query\n",
    "    cursor.execute(query)\n",
    "\n",
    "    # Fetch the results into a DataFrame\n",
    "    df = pd.read_sql(query, mydb)\n",
    "\n",
    "    # Print the DataFrame\n",
    "    print(df)\n",
    "\n",
    "except Exception as e:\n",
    "    print(str(e))\n",
    "finally:\n",
    "    mydb.close()  # Close the database connection when done\n"
   ]
  }
 ],
 "metadata": {
  "kernelspec": {
   "display_name": "Python 3",
   "language": "python",
   "name": "python3"
  },
  "language_info": {
   "codemirror_mode": {
    "name": "ipython",
    "version": 3
   },
   "file_extension": ".py",
   "mimetype": "text/x-python",
   "name": "python",
   "nbconvert_exporter": "python",
   "pygments_lexer": "ipython3",
   "version": "3.11.5"
  }
 },
 "nbformat": 4,
 "nbformat_minor": 2
}
